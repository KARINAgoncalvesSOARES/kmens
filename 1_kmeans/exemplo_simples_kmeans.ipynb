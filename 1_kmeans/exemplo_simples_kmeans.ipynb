{
  "nbformat": 4,
  "nbformat_minor": 0,
  "metadata": {
    "colab": {
      "provenance": [],
      "authorship_tag": "ABX9TyN4zXblD63Is1kSP7vyWhn1",
      "include_colab_link": true
    },
    "kernelspec": {
      "name": "python3",
      "display_name": "Python 3"
    },
    "language_info": {
      "name": "python"
    }
  },
  "cells": [
    {
      "cell_type": "markdown",
      "metadata": {
        "id": "view-in-github",
        "colab_type": "text"
      },
      "source": [
        "<a href=\"https://colab.research.google.com/github/KARINAgoncalvesSOARES/kmeans/blob/main/exemplo_simples_kmeans.ipynb\" target=\"_parent\"><img src=\"https://colab.research.google.com/assets/colab-badge.svg\" alt=\"Open In Colab\"/></a>"
      ]
    },
    {
      "cell_type": "markdown",
      "source": [
        "\\## <h2 align=\"center\"> Exemplo de código Python simples para o algoritmo de clusterização k-means\n",
        "\n",
        "Data Scientist.: Karina Gonçalves Soares\n"
      ],
      "metadata": {
        "id": "hSwJxzPtlU5o"
      }
    },
    {
      "cell_type": "markdown",
      "source": [
        "K-means é um algoritmo de clusterização não supervisionada utilizado para particionar um conjunto de dados em k clusters, onde k é um número pré-definido. O objetivo do algoritmo é encontrar k centróides que representem os k clusters de maneira ótima, minimizando a soma dos quadrados das distâncias entre os pontos e seus respectivos centróides.\n",
        "\n"
      ],
      "metadata": {
        "id": "kp5bCWoyn72q"
      }
    },
    {
      "cell_type": "code",
      "execution_count": 1,
      "metadata": {
        "id": "b83V83sWi6Og"
      },
      "outputs": [],
      "source": [
        "import numpy as np\n",
        "from sklearn.cluster import KMeans"
      ]
    },
    {
      "cell_type": "code",
      "source": [
        "# Gerando dados aleatórios\n",
        "X = np.random.random((100,2))\n",
        "\n",
        "# Definindo o número de clusters\n",
        "kmeans = KMeans(n_clusters=3, n_init = \"auto\")\n",
        "\n",
        "# Treinando o modelo com os dados\n",
        "kmeans.fit(X)\n",
        "\n",
        "# Obtendo os rótulos dos clusters e os centróides\n",
        "labels = kmeans.labels_\n",
        "centroids = kmeans.cluster_centers_\n",
        "\n",
        "# Imprimindo os resultados\n",
        "print(\"Rótulos dos clusters: \", labels)\n",
        "print(\"Centróides dos clusters: \", centroids)"
      ],
      "metadata": {
        "colab": {
          "base_uri": "https://localhost:8080/"
        },
        "id": "k1VLJfzckb8M",
        "outputId": "530c7c28-890e-4a44-f51e-97c1d37be33c"
      },
      "execution_count": 5,
      "outputs": [
        {
          "output_type": "stream",
          "name": "stdout",
          "text": [
            "Rótulos dos clusters:  [1 1 2 2 1 2 1 0 2 1 2 1 0 0 2 1 2 1 2 2 2 1 0 1 0 0 2 0 0 0 1 2 1 0 0 1 2\n",
            " 1 1 0 2 2 2 2 2 1 1 2 2 0 0 1 1 1 1 1 0 0 1 0 0 1 2 2 1 0 2 0 0 1 1 1 1 2\n",
            " 2 2 1 2 1 1 1 2 2 1 2 0 0 0 0 1 2 0 2 1 2 0 1 1 1 0]\n",
            "Centróides dos clusters:  [[0.35127142 0.76469997]\n",
            " [0.85973294 0.45355439]\n",
            " [0.22101903 0.22729772]]\n"
          ]
        }
      ]
    },
    {
      "cell_type": "markdown",
      "source": [
        "Explicação:\n",
        "\n",
        "1. Importamos as bibliotecas necessárias, incluindo a biblioteca scikit-learn que contém a implementação do k-means.\n",
        "2. Geramos dados aleatórios com numpy para testar o algoritmo.\n",
        "3. Definimos o número de clusters como 3.\n",
        "4. Treinamos o modelo com os dados de entrada.\n",
        "5. Obtemos os rótulos dos clusters e os centróides para cada cluster.\n",
        "6. Imprimimos os resultados na tela.\n",
        "\n",
        "Este código é apenas um exemplo básico. O algoritmo k-means tem muitas outras opções de parâmetros, como o critério de convergência, o número máximo de iterações e a inicialização dos centróides. Além disso, é importante pré-processar os dados adequadamente antes de aplicar o algoritmo para garantir resultados precisos e significativos.\n",
        "\n",
        "\n",
        "\n"
      ],
      "metadata": {
        "id": "X0yKfy7qkmIp"
      }
    }
  ]
}